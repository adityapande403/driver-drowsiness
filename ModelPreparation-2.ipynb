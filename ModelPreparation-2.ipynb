{
 "cells": [
  {
   "cell_type": "code",
   "execution_count": 2,
   "id": "c67c518c",
   "metadata": {},
   "outputs": [
    {
     "name": "stdout",
     "output_type": "stream",
     "text": [
      "Requirement already satisfied: keras-utils in /Library/Frameworks/Python.framework/Versions/3.10/lib/python3.10/site-packages (1.0.13)\n",
      "Requirement already satisfied: Keras>=2.1.5 in /Library/Frameworks/Python.framework/Versions/3.10/lib/python3.10/site-packages (from keras-utils) (2.13.1)\n",
      "\n",
      "\u001b[1m[\u001b[0m\u001b[34;49mnotice\u001b[0m\u001b[1;39;49m]\u001b[0m\u001b[39;49m A new release of pip is available: \u001b[0m\u001b[31;49m23.1.2\u001b[0m\u001b[39;49m -> \u001b[0m\u001b[32;49m23.2.1\u001b[0m\n",
      "\u001b[1m[\u001b[0m\u001b[34;49mnotice\u001b[0m\u001b[1;39;49m]\u001b[0m\u001b[39;49m To update, run: \u001b[0m\u001b[32;49mpip install --upgrade pip\u001b[0m\n",
      "Note: you may need to restart the kernel to use updated packages.\n"
     ]
    }
   ],
   "source": [
    "pip install keras-utils"
   ]
  },
  {
   "cell_type": "code",
   "execution_count": 24,
   "id": "3d07c6a5",
   "metadata": {},
   "outputs": [],
   "source": [
    "import os\n",
    "from keras.preprocessing import image\n",
    "import matplotlib.pyplot as plt \n",
    "import numpy as np\n",
    "from tensorflow.keras.utils import to_categorical\n",
    "\n",
    "import random,shutil\n",
    "from keras.models import Sequential\n",
    "from keras.layers import Dropout,Conv2D,Flatten,Dense, MaxPooling2D, BatchNormalization\n",
    "from keras.models import load_model\n",
    "import cv2\n",
    "\n"
   ]
  },
  {
   "cell_type": "code",
   "execution_count": 25,
   "id": "c3680239",
   "metadata": {},
   "outputs": [],
   "source": [
    "def generator(dir, gen=image.ImageDataGenerator(rescale=1./255), shuffle=True,batch_size=1,target_size=(24,24),class_mode='categorical' ):\n",
    "\n",
    "    return gen.flow_from_directory(dir,batch_size=batch_size,shuffle=shuffle,color_mode='grayscale',class_mode=class_mode,target_size=target_size)\n"
   ]
  },
  {
   "cell_type": "code",
   "execution_count": 26,
   "id": "a255cc92",
   "metadata": {},
   "outputs": [],
   "source": [
    "def get_data(dir_path=\"/Users/User/Downloads/train/\", face_cas=\"/Users/User/Downloads/Drowsiness detection/haar cascade files/haarcascade_frontalface_alt.xml\", \n",
    "             eye_cas=\"/Users/User/Downloads/archive-2/haarcascade.xml\"):\n",
    "    labels = ['Closed', 'Open']\n",
    "    IMG_SIZE = 145\n",
    "    data = []\n",
    "    for label in labels:\n",
    "        path = os.path.join(dir_path, label)\n",
    "        class_num = labels.index(label)\n",
    "        class_num +=2\n",
    "        print(class_num)\n",
    "        for img in os.listdir(path):\n",
    "            try:\n",
    "                img_array = cv2.imread(os.path.join(path, img), cv2.IMREAD_COLOR)\n",
    "                resized_array = cv2.resize(img_array, (IMG_SIZE, IMG_SIZE))\n",
    "                data.append([resized_array, class_num])\n",
    "            except Exception as e:\n",
    "                print(e)\n",
    "    return data"
   ]
  },
  {
   "cell_type": "code",
   "execution_count": 27,
   "id": "be4ff9b5",
   "metadata": {},
   "outputs": [
    {
     "name": "stdout",
     "output_type": "stream",
     "text": [
      "2\n",
      "OpenCV(4.8.1) /Users/xperience/GHA-OpenCV-Python/_work/opencv-python/opencv-python/opencv/modules/imgproc/src/resize.cpp:4062: error: (-215:Assertion failed) !ssize.empty() in function 'resize'\n",
      "\n",
      "3\n",
      "OpenCV(4.8.1) /Users/xperience/GHA-OpenCV-Python/_work/opencv-python/opencv-python/opencv/modules/imgproc/src/resize.cpp:4062: error: (-215:Assertion failed) !ssize.empty() in function 'resize'\n",
      "\n"
     ]
    }
   ],
   "source": [
    "data_train = get_data()"
   ]
  },
  {
   "cell_type": "code",
   "execution_count": 28,
   "id": "ce4236fe",
   "metadata": {},
   "outputs": [
    {
     "name": "stdout",
     "output_type": "stream",
     "text": [
      "Found 1477 images belonging to 2 classes.\n",
      "Found 2523 images belonging to 2 classes.\n",
      "46 78\n"
     ]
    }
   ],
   "source": [
    "BS= 32\n",
    "TS=(24,24)\n",
    "train_batch= generator('/Users/User/Downloads/train',shuffle=True, batch_size=BS,target_size=TS)\n",
    "valid_batch= generator('/Users/User/Downloads/Valid',shuffle=True, batch_size=BS,target_size=TS)\n",
    "SPE= len(train_batch.classes)//BS\n",
    "VS = len(valid_batch.classes)//BS\n",
    "print(SPE,VS)"
   ]
  },
  {
   "cell_type": "code",
   "execution_count": 44,
   "id": "fc13f603",
   "metadata": {},
   "outputs": [],
   "source": [
    "# img,labels= next(train_batch)\n",
    "# print(img.shape)\n",
    "def Optimal_model():\n",
    "  model = Sequential([\n",
    "    Conv2D(32, kernel_size=(3, 3), activation='relu', input_shape=(24,24,1)),\n",
    "    MaxPooling2D(pool_size=(1,1)),\n",
    "    Conv2D(32,(3,3),activation='relu'),\n",
    "    MaxPooling2D(pool_size=(1,1)),\n",
    "#32 convolution filters used each of size 3x3\n",
    "#again\n",
    "    Conv2D(64, (3, 3), activation='relu'),\n",
    "    MaxPooling2D(pool_size=(1,1)),\n",
    "\n",
    "#64 convolution filters used each of size 3x3\n",
    "#choose the best features via pooling\n",
    "    \n",
    "#randomly turn neurons on and off to improve convergence\n",
    "    Dropout(0.25),\n",
    "#flatten since too many dimensions, we only want a classification output\n",
    "    Flatten(),\n",
    "#fully connected to get all relevant data\n",
    "    Dense(128, activation='relu'),\n",
    "#one more dropout for convergence' sake :) \n",
    "    Dropout(0.5),\n",
    "#output a softmax to squash the matrix into output probabilities\n",
    "    Dense(2, activation='softmax')\n",
    "])\n",
    "  model.compile(optimizer='adam', loss='categorical_crossentropy', metrics=['accuracy'])\n",
    "  return model"
   ]
  },
  {
   "cell_type": "code",
   "execution_count": 30,
   "id": "f72fa405",
   "metadata": {},
   "outputs": [
    {
     "name": "stdout",
     "output_type": "stream",
     "text": [
      "Epoch 1/15\n"
     ]
    },
    {
     "name": "stderr",
     "output_type": "stream",
     "text": [
      "/var/folders/zj/t__vxdy96jgcwr6z7n697f500000gn/T/ipykernel_2260/814966032.py:3: UserWarning: `Model.fit_generator` is deprecated and will be removed in a future version. Please use `Model.fit`, which supports generators.\n",
      "  model.fit_generator(train_batch, validation_data=valid_batch,epochs=15,steps_per_epoch=SPE ,validation_steps=VS)\n"
     ]
    },
    {
     "name": "stdout",
     "output_type": "stream",
     "text": [
      "46/46 [==============================] - 2s 39ms/step - loss: 0.3536 - accuracy: 0.8325 - val_loss: 0.4902 - val_accuracy: 0.7496\n",
      "Epoch 2/15\n",
      "46/46 [==============================] - 2s 46ms/step - loss: 0.0947 - accuracy: 0.9689 - val_loss: 0.2923 - val_accuracy: 0.8910\n",
      "Epoch 3/15\n",
      "46/46 [==============================] - 3s 57ms/step - loss: 0.0641 - accuracy: 0.9792 - val_loss: 0.4703 - val_accuracy: 0.7508\n",
      "Epoch 4/15\n",
      "46/46 [==============================] - 4s 77ms/step - loss: 0.0342 - accuracy: 0.9910 - val_loss: 0.2588 - val_accuracy: 0.9211\n",
      "Epoch 5/15\n",
      "46/46 [==============================] - 3s 61ms/step - loss: 0.0190 - accuracy: 0.9952 - val_loss: 0.2832 - val_accuracy: 0.9279\n",
      "Epoch 6/15\n",
      "46/46 [==============================] - 2s 52ms/step - loss: 0.0225 - accuracy: 0.9945 - val_loss: 0.2472 - val_accuracy: 0.9339\n",
      "Epoch 7/15\n",
      "46/46 [==============================] - 2s 51ms/step - loss: 0.0082 - accuracy: 0.9958 - val_loss: 0.3152 - val_accuracy: 0.9355\n",
      "Epoch 8/15\n",
      "46/46 [==============================] - 2s 54ms/step - loss: 0.0073 - accuracy: 0.9972 - val_loss: 0.3319 - val_accuracy: 0.9054\n",
      "Epoch 9/15\n",
      "46/46 [==============================] - 3s 60ms/step - loss: 0.0021 - accuracy: 1.0000 - val_loss: 0.4197 - val_accuracy: 0.9179\n",
      "Epoch 10/15\n",
      "46/46 [==============================] - 3s 67ms/step - loss: 7.8030e-04 - accuracy: 1.0000 - val_loss: 0.4851 - val_accuracy: 0.9095\n",
      "Epoch 11/15\n",
      "46/46 [==============================] - 3s 58ms/step - loss: 5.4124e-04 - accuracy: 1.0000 - val_loss: 0.4493 - val_accuracy: 0.9339\n",
      "Epoch 12/15\n",
      "46/46 [==============================] - 3s 58ms/step - loss: 3.6065e-04 - accuracy: 1.0000 - val_loss: 0.4822 - val_accuracy: 0.9283\n",
      "Epoch 13/15\n",
      "46/46 [==============================] - 3s 70ms/step - loss: 0.0023 - accuracy: 0.9993 - val_loss: 0.5437 - val_accuracy: 0.9243\n",
      "Epoch 14/15\n",
      "46/46 [==============================] - 3s 57ms/step - loss: 0.0376 - accuracy: 0.9896 - val_loss: 0.7327 - val_accuracy: 0.7656\n",
      "Epoch 15/15\n",
      "46/46 [==============================] - 2s 53ms/step - loss: 0.0157 - accuracy: 0.9938 - val_loss: 0.2888 - val_accuracy: 0.9139\n"
     ]
    }
   ],
   "source": [
    "model.compile(optimizer='adam',loss='categorical_crossentropy',metrics=['accuracy'])\n",
    "\n",
    "model.fit_generator(train_batch, validation_data=valid_batch,epochs=15,steps_per_epoch=SPE ,validation_steps=VS)\n",
    "\n",
    "model.save('models/cnnCat2.h5', overwrite=True)"
   ]
  },
  {
   "cell_type": "code",
   "execution_count": 45,
   "id": "ebbae1af",
   "metadata": {},
   "outputs": [
    {
     "name": "stdout",
     "output_type": "stream",
     "text": [
      "Epoch 1/15\n",
      " 1/46 [..............................] - ETA: 7s - loss: 0.6962 - accuracy: 0.4375"
     ]
    },
    {
     "name": "stderr",
     "output_type": "stream",
     "text": [
      "/var/folders/zj/t__vxdy96jgcwr6z7n697f500000gn/T/ipykernel_2260/56241135.py:47: UserWarning: `Model.fit_generator` is deprecated and will be removed in a future version. Please use `Model.fit`, which supports generators.\n",
      "  history = model.fit_generator(train_batch, validation_data=valid_batch, epochs=15, steps_per_epoch=SPE, validation_steps=VS)\n"
     ]
    },
    {
     "name": "stdout",
     "output_type": "stream",
     "text": [
      "46/46 [==============================] - 1s 23ms/step - loss: 0.3971 - accuracy: 0.8083 - val_loss: 0.3555 - val_accuracy: 0.7812\n",
      "Epoch 2/15\n",
      "46/46 [==============================] - 1s 25ms/step - loss: 0.1205 - accuracy: 0.9578 - val_loss: 0.2710 - val_accuracy: 0.9099\n",
      "Epoch 3/15\n",
      "46/46 [==============================] - 1s 31ms/step - loss: 0.0587 - accuracy: 0.9820 - val_loss: 0.3248 - val_accuracy: 0.8153\n",
      "Epoch 4/15\n",
      "46/46 [==============================] - 1s 28ms/step - loss: 0.0367 - accuracy: 0.9924 - val_loss: 0.2581 - val_accuracy: 0.8718\n",
      "Epoch 5/15\n",
      "46/46 [==============================] - 1s 28ms/step - loss: 0.0230 - accuracy: 0.9945 - val_loss: 0.2508 - val_accuracy: 0.8726\n",
      "Epoch 6/15\n",
      "46/46 [==============================] - 2s 38ms/step - loss: 0.0218 - accuracy: 0.9931 - val_loss: 0.3113 - val_accuracy: 0.8233\n",
      "Epoch 7/15\n",
      "46/46 [==============================] - 2s 40ms/step - loss: 0.0120 - accuracy: 0.9972 - val_loss: 0.2561 - val_accuracy: 0.8958\n",
      "Epoch 8/15\n",
      "46/46 [==============================] - 1s 30ms/step - loss: 0.0089 - accuracy: 0.9986 - val_loss: 0.2688 - val_accuracy: 0.8886\n",
      "Epoch 9/15\n",
      "46/46 [==============================] - 1s 29ms/step - loss: 0.0052 - accuracy: 0.9993 - val_loss: 0.2772 - val_accuracy: 0.8766\n",
      "Epoch 10/15\n",
      "46/46 [==============================] - 1s 29ms/step - loss: 0.0067 - accuracy: 0.9979 - val_loss: 0.3749 - val_accuracy: 0.8165\n",
      "Epoch 11/15\n",
      "46/46 [==============================] - 1s 28ms/step - loss: 0.0046 - accuracy: 1.0000 - val_loss: 0.3584 - val_accuracy: 0.8257\n",
      "Epoch 12/15\n",
      "46/46 [==============================] - 1s 28ms/step - loss: 0.0029 - accuracy: 1.0000 - val_loss: 0.2838 - val_accuracy: 0.8738\n",
      "Epoch 13/15\n",
      "46/46 [==============================] - 1s 27ms/step - loss: 0.0023 - accuracy: 1.0000 - val_loss: 0.3050 - val_accuracy: 0.8722\n",
      "Epoch 14/15\n",
      "46/46 [==============================] - 1s 29ms/step - loss: 0.0019 - accuracy: 1.0000 - val_loss: 0.2826 - val_accuracy: 0.8650\n",
      "Epoch 15/15\n",
      "46/46 [==============================] - 1s 28ms/step - loss: 0.0016 - accuracy: 1.0000 - val_loss: 0.2823 - val_accuracy: 0.8810\n",
      "Epoch 1/15\n",
      "46/46 [==============================] - 2s 30ms/step - loss: 0.3760 - accuracy: 0.8228 - val_loss: 0.4106 - val_accuracy: 0.7480\n",
      "Epoch 2/15\n",
      "46/46 [==============================] - 2s 36ms/step - loss: 0.1166 - accuracy: 0.9619 - val_loss: 0.2506 - val_accuracy: 0.9127\n",
      "Epoch 3/15\n",
      "46/46 [==============================] - 2s 44ms/step - loss: 0.0505 - accuracy: 0.9834 - val_loss: 0.3887 - val_accuracy: 0.8317\n",
      "Epoch 4/15\n",
      "46/46 [==============================] - 1033s 23s/step - loss: 0.0446 - accuracy: 0.9882 - val_loss: 0.2507 - val_accuracy: 0.9062\n",
      "Epoch 5/15\n",
      "46/46 [==============================] - 1s 31ms/step - loss: 0.0355 - accuracy: 0.9910 - val_loss: 0.2520 - val_accuracy: 0.9127\n",
      "Epoch 6/15\n",
      "46/46 [==============================] - 1s 21ms/step - loss: 0.0229 - accuracy: 0.9938 - val_loss: 0.2851 - val_accuracy: 0.9038\n",
      "Epoch 7/15\n",
      "46/46 [==============================] - 1s 21ms/step - loss: 0.0132 - accuracy: 0.9965 - val_loss: 0.2267 - val_accuracy: 0.9379\n",
      "Epoch 8/15\n",
      "46/46 [==============================] - 1s 20ms/step - loss: 0.0086 - accuracy: 0.9972 - val_loss: 0.2248 - val_accuracy: 0.9471\n",
      "Epoch 9/15\n",
      "46/46 [==============================] - 1s 20ms/step - loss: 0.0042 - accuracy: 0.9993 - val_loss: 0.2414 - val_accuracy: 0.9399\n",
      "Epoch 10/15\n",
      "46/46 [==============================] - 1s 21ms/step - loss: 0.0057 - accuracy: 0.9979 - val_loss: 0.1967 - val_accuracy: 0.9611\n",
      "Epoch 11/15\n",
      "46/46 [==============================] - 1s 23ms/step - loss: 0.0025 - accuracy: 0.9993 - val_loss: 0.2150 - val_accuracy: 0.9579\n",
      "Epoch 12/15\n",
      "46/46 [==============================] - 1s 23ms/step - loss: 0.0011 - accuracy: 1.0000 - val_loss: 0.2203 - val_accuracy: 0.9575\n",
      "Epoch 13/15\n",
      "46/46 [==============================] - 1s 24ms/step - loss: 0.0011 - accuracy: 1.0000 - val_loss: 0.2112 - val_accuracy: 0.9607\n",
      "Epoch 14/15\n",
      "46/46 [==============================] - 1s 21ms/step - loss: 0.0010 - accuracy: 1.0000 - val_loss: 0.2765 - val_accuracy: 0.9415\n",
      "Epoch 15/15\n",
      "46/46 [==============================] - 1s 21ms/step - loss: 6.6764e-04 - accuracy: 1.0000 - val_loss: 0.2360 - val_accuracy: 0.9563\n",
      "Epoch 1/15\n",
      "46/46 [==============================] - 1s 22ms/step - loss: 0.4170 - accuracy: 0.7813 - val_loss: 0.3845 - val_accuracy: 0.8369\n",
      "Epoch 2/15\n",
      "46/46 [==============================] - 1s 21ms/step - loss: 0.1369 - accuracy: 0.9460 - val_loss: 0.4402 - val_accuracy: 0.7869\n",
      "Epoch 3/15\n",
      "46/46 [==============================] - 1s 21ms/step - loss: 0.0854 - accuracy: 0.9668 - val_loss: 0.3804 - val_accuracy: 0.8361\n",
      "Epoch 4/15\n",
      "46/46 [==============================] - 1s 21ms/step - loss: 0.0767 - accuracy: 0.9716 - val_loss: 0.2966 - val_accuracy: 0.9219\n",
      "Epoch 5/15\n",
      "46/46 [==============================] - 1s 21ms/step - loss: 0.0361 - accuracy: 0.9882 - val_loss: 0.2711 - val_accuracy: 0.9315\n",
      "Epoch 6/15\n",
      "46/46 [==============================] - 1s 20ms/step - loss: 0.0499 - accuracy: 0.9820 - val_loss: 0.2192 - val_accuracy: 0.9595\n",
      "Epoch 7/15\n",
      "46/46 [==============================] - 1s 20ms/step - loss: 0.0092 - accuracy: 0.9979 - val_loss: 0.2962 - val_accuracy: 0.9311\n",
      "Epoch 8/15\n",
      "46/46 [==============================] - 1s 20ms/step - loss: 0.0056 - accuracy: 0.9993 - val_loss: 0.2665 - val_accuracy: 0.9567\n",
      "Epoch 9/15\n",
      "46/46 [==============================] - 1s 20ms/step - loss: 0.0022 - accuracy: 1.0000 - val_loss: 0.2898 - val_accuracy: 0.9555\n",
      "Epoch 10/15\n",
      "46/46 [==============================] - 1s 20ms/step - loss: 0.0016 - accuracy: 1.0000 - val_loss: 0.3523 - val_accuracy: 0.9339\n",
      "Epoch 11/15\n",
      "46/46 [==============================] - 1s 20ms/step - loss: 0.0011 - accuracy: 1.0000 - val_loss: 0.3606 - val_accuracy: 0.9423\n",
      "Epoch 12/15\n",
      "46/46 [==============================] - 1s 20ms/step - loss: 6.5910e-04 - accuracy: 1.0000 - val_loss: 0.3319 - val_accuracy: 0.9531\n",
      "Epoch 13/15\n",
      "46/46 [==============================] - 1s 20ms/step - loss: 0.0013 - accuracy: 1.0000 - val_loss: 0.4082 - val_accuracy: 0.9383\n",
      "Epoch 14/15\n",
      "46/46 [==============================] - 1s 20ms/step - loss: 5.4489e-04 - accuracy: 1.0000 - val_loss: 0.3850 - val_accuracy: 0.9503\n",
      "Epoch 15/15\n",
      "46/46 [==============================] - 1s 20ms/step - loss: 3.8032e-04 - accuracy: 1.0000 - val_loss: 0.4290 - val_accuracy: 0.9399\n",
      "Epoch 1/15\n",
      "46/46 [==============================] - 2s 30ms/step - loss: 0.2976 - accuracy: 0.8706 - val_loss: 0.2369 - val_accuracy: 0.8874\n",
      "Epoch 2/15\n",
      "46/46 [==============================] - 1s 28ms/step - loss: 0.0542 - accuracy: 0.9820 - val_loss: 0.3064 - val_accuracy: 0.9123\n",
      "Epoch 3/15\n",
      "46/46 [==============================] - 1s 28ms/step - loss: 0.0172 - accuracy: 0.9965 - val_loss: 0.3123 - val_accuracy: 0.8978\n",
      "Epoch 4/15\n",
      "46/46 [==============================] - 1s 28ms/step - loss: 0.0244 - accuracy: 0.9910 - val_loss: 0.3629 - val_accuracy: 0.9119\n",
      "Epoch 5/15\n",
      "46/46 [==============================] - 1s 28ms/step - loss: 0.0134 - accuracy: 0.9945 - val_loss: 0.2421 - val_accuracy: 0.9399\n",
      "Epoch 6/15\n",
      "46/46 [==============================] - 1s 29ms/step - loss: 0.0061 - accuracy: 0.9986 - val_loss: 0.2400 - val_accuracy: 0.9311\n",
      "Epoch 7/15\n",
      "46/46 [==============================] - 1s 28ms/step - loss: 0.0022 - accuracy: 1.0000 - val_loss: 0.2616 - val_accuracy: 0.9467\n",
      "Epoch 8/15\n",
      "46/46 [==============================] - 1s 28ms/step - loss: 0.0080 - accuracy: 0.9986 - val_loss: 0.2744 - val_accuracy: 0.9375\n",
      "Epoch 9/15\n",
      "46/46 [==============================] - 1s 29ms/step - loss: 7.0452e-04 - accuracy: 1.0000 - val_loss: 0.3364 - val_accuracy: 0.9303\n",
      "Epoch 10/15\n",
      "46/46 [==============================] - 1s 29ms/step - loss: 1.7923e-04 - accuracy: 1.0000 - val_loss: 0.3804 - val_accuracy: 0.9267\n",
      "Epoch 11/15\n",
      "46/46 [==============================] - 1s 29ms/step - loss: 4.4203e-04 - accuracy: 1.0000 - val_loss: 0.4580 - val_accuracy: 0.9143\n",
      "Epoch 12/15\n",
      "46/46 [==============================] - 1s 29ms/step - loss: 9.1504e-05 - accuracy: 1.0000 - val_loss: 0.3975 - val_accuracy: 0.9219\n",
      "Epoch 13/15\n",
      "46/46 [==============================] - 1s 29ms/step - loss: 1.4870e-04 - accuracy: 1.0000 - val_loss: 0.4331 - val_accuracy: 0.9195\n"
     ]
    },
    {
     "name": "stdout",
     "output_type": "stream",
     "text": [
      "Epoch 14/15\n",
      "46/46 [==============================] - 1s 29ms/step - loss: 1.3214e-04 - accuracy: 1.0000 - val_loss: 0.4331 - val_accuracy: 0.9275\n",
      "Epoch 15/15\n",
      "46/46 [==============================] - 30s 669ms/step - loss: 0.0043 - accuracy: 0.9979 - val_loss: 0.4561 - val_accuracy: 0.8894\n"
     ]
    }
   ],
   "source": [
    "\n",
    "\n",
    "def create_model_1():\n",
    "    model = Sequential([\n",
    "        Conv2D(32, kernel_size=(3, 3), activation='relu', input_shape=(24, 24, 1)),\n",
    "        MaxPooling2D(pool_size=(1, 1)),\n",
    "        Flatten(),\n",
    "        Dense(128, activation='relu'),\n",
    "        Dense(2, activation='softmax')\n",
    "    ])\n",
    "    model.compile(optimizer='adam', loss='categorical_crossentropy', metrics=['accuracy'])\n",
    "    return model\n",
    "\n",
    "def create_model_2():\n",
    "    model = Sequential([\n",
    "        Conv2D(64, kernel_size=(3, 3), activation='relu', input_shape=(24, 24, 1)),\n",
    "        MaxPooling2D(pool_size=(2, 2)),\n",
    "        Conv2D(64, kernel_size=(3, 3), activation='relu'),\n",
    "        MaxPooling2D(pool_size=(2, 2)),\n",
    "        Flatten(),\n",
    "        Dense(256, activation='relu'),\n",
    "        Dense(2, activation='softmax')\n",
    "    ])\n",
    "    model.compile(optimizer='adam', loss='categorical_crossentropy', metrics=['accuracy'])\n",
    "    return model\n",
    "\n",
    "def create_model_3():\n",
    "    model = Sequential([\n",
    "        Conv2D(32, kernel_size=(3, 3), activation='relu', input_shape=(24, 24, 1)),\n",
    "        MaxPooling2D(pool_size=(2, 2)),\n",
    "        Conv2D(64, kernel_size=(3, 3), activation='relu'),\n",
    "        MaxPooling2D(pool_size=(2, 2)),\n",
    "        Conv2D(128, kernel_size=(3, 3), activation='relu'),\n",
    "        MaxPooling2D(pool_size=(2, 2)),\n",
    "        Flatten(),\n",
    "        Dense(512, activation='relu'),\n",
    "        Dropout(0.5),\n",
    "        Dense(2, activation='softmax')\n",
    "    ])\n",
    "    model.compile(optimizer='adam', loss='categorical_crossentropy', metrics=['accuracy'])\n",
    "    return model\n",
    "\n",
    "# Define a list of model architectures to compare\n",
    "model_architectures = [create_model_1(), create_model_2(), create_model_3(), Optimal_model()]\n",
    "\n",
    "model_results = []\n",
    "\n",
    "for model in model_architectures:\n",
    "    history = model.fit_generator(train_batch, validation_data=valid_batch, epochs=15, steps_per_epoch=SPE, validation_steps=VS)\n",
    "    model_results.append(history)\n",
    "\n",
    "\n"
   ]
  },
  {
   "cell_type": "code",
   "execution_count": 46,
   "id": "111ead4f",
   "metadata": {},
   "outputs": [
    {
     "name": "stdout",
     "output_type": "stream",
     "text": [
      "Model 1:\n",
      "Training Accuracy: 1.0\n",
      "Validation Accuracy: 0.8810096383094788\n",
      "\n",
      "\n",
      "Model 2:\n",
      "Training Accuracy: 1.0\n",
      "Validation Accuracy: 0.9563301205635071\n",
      "\n",
      "\n",
      "Model 3:\n",
      "Training Accuracy: 1.0\n",
      "Validation Accuracy: 0.9399038553237915\n",
      "\n",
      "\n",
      "Model 4:\n",
      "Training Accuracy: 0.9979238510131836\n",
      "Validation Accuracy: 0.8894230723381042\n",
      "\n",
      "\n"
     ]
    },
    {
     "data": {
      "image/png": "[encoded data removed]",
      "text/plain": [
       "<Figure size 432x288 with 1 Axes>"
      ]
     },
     "metadata": {
      "needs_background": "light"
     },
     "output_type": "display_data"
    }
   ],
   "source": [
    "# Compare the model performance\n",
    "for i, history in enumerate(model_results):\n",
    "    print(f\"Model {i + 1}:\")\n",
    "    print(f\"Training Accuracy: {history.history['accuracy'][-1]}\")\n",
    "    print(f\"Validation Accuracy: {history.history['val_accuracy'][-1]}\")\n",
    "    print(\"\\n\")\n",
    "\n",
    "# Plot the training and validation accuracy\n",
    "for i, history in enumerate(model_results):\n",
    "    plt.plot(history.history['accuracy'], label=f\"Model {i + 1}\")\n",
    "\n",
    "plt.title('Training Accuracy')\n",
    "plt.ylabel('Accuracy')\n",
    "plt.xlabel('Epoch')\n",
    "plt.legend(loc='upper left')\n",
    "plt.show()"
   ]
  },
  {
   "cell_type": "code",
   "execution_count": null,
   "id": "d7cdfaf5",
   "metadata": {},
   "outputs": [],
   "source": []
  }
 ],
 "metadata": {
  "kernelspec": {
   "display_name": "Python 3 (ipykernel)",
   "language": "python",
   "name": "python3"
  },
  "language_info": {
   "codemirror_mode": {
    "name": "ipython",
    "version": 3
   },
   "file_extension": ".py",
   "mimetype": "text/x-python",
   "name": "python",
   "nbconvert_exporter": "python",
   "pygments_lexer": "ipython3",
   "version": "3.10.5"
  }
 },
 "nbformat": 4,
 "nbformat_minor": 5
}
